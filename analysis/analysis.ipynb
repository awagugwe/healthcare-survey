{
 "cells": [
  {
   "cell_type": "code",
   "execution_count": null,
   "metadata": {},
   "outputs": [],
   "source": [
    "import pandas as pd\n",
    "import matplotlib.pyplot as plt\n",
    "import seaborn as sns\n",
    "from pymongo import MongoClient\n",
    "import json"
   ]
  },
  {
   "cell_type": "code",
   "execution_count": null,
   "metadata": {},
   "outputs": [],
   "source": [
    "# Connect to MongoDB and fetch data\n",
    "client = MongoClient('mongodb://localhost:27017/')\n",
    "db = client['survey_db']\n",
    "users_collection = db['users']\n",
    "\n",
    "# Convert MongoDB data to DataFrame\n",
    "data = list(users_collection.find())\n",
    "df = pd.DataFrame(data)"
   ]
  },
  {
   "cell_type": "code",
   "execution_count": null,
   "metadata": {},
   "outputs": [],
   "source": [
    "# Flatten the expenses dictionary into separate columns\n",
    "expense_df = pd.json_normalize(df['expenses'])\n",
    "df = pd.concat([df.drop('expenses', axis=1), expense_df], axis=1)"
   ]
  },
  {
   "cell_type": "code",
   "execution_count": null,
   "metadata": {},
   "outputs": [],
   "source": [
    "# Save to CSV\n",
    "df.to_csv('survey_data.csv', index=False)"
   ]
  },
  {
   "cell_type": "code",
   "execution_count": null,
   "metadata": {},
   "outputs": [],
   "source": [
    "# Analysis 1: Ages with Highest Income\n",
    "plt.figure(figsize=(12, 6))\n",
    "sns.scatterplot(data=df, x='age', y='income')\n",
    "plt.title('Income Distribution by Age')\n",
    "plt.xlabel('Age')\n",
    "plt.ylabel('Income ($)')\n",
    "plt.savefig('income_by_age.png')\n",
    "plt.close()"
   ]
  },
  {
   "cell_type": "code",
   "execution_count": null,
   "metadata": {},
   "outputs": [],
   "source": [
    "# Analysis 2: Average Spending by Gender for Each Category\n",
    "expense_categories = ['utilities', 'entertainment', 'school_fees', 'shopping', 'healthcare']\n",
    "gender_spending = df.groupby('gender')[expense_categories].mean()\n",
    "\n",
    "plt.figure(figsize=(12, 6))\n",
    "gender_spending.plot(kind='bar')\n",
    "plt.title('Average Spending by Gender Across Categories')\n",
    "plt.xlabel('Gender')\n",
    "plt.ylabel('Amount ($)')\n",
    "plt.legend(title='Expense Category', bbox_to_anchor=(1.05, 1))\n",
    "plt.tight_layout()\n",
    "plt.savefig('spending_by_gender.png')\n",
    "plt.close()"
   ]
  },
  {
   "cell_type": "code",
   "execution_count": null,
   "metadata": {},
   "outputs": [],
   "source": [
    "# Additional Analysis: Total Expenses Distribution\n",
    "df['total_expenses'] = df[expense_categories].sum(axis=1)\n",
    "plt.figure(figsize=(10, 6))\n",
    "sns.boxplot(data=df, x='gender', y='total_expenses')\n",
    "plt.title('Total Expenses Distribution by Gender')\n",
    "plt.xlabel('Gender')\n",
    "plt.ylabel('Total Expenses ($)')\n",
    "plt.savefig('total_expenses_distribution.png')\n",
    "plt.close()\n"
   ]
  },
  {
   "cell_type": "code",
   "execution_count": null,
   "metadata": {},
   "outputs": [],
   "source": [
    "# Save summary statistics\n",
    "summary_stats = {\n",
    "    'total_respondents': len(df),\n",
    "    'average_income': df['income'].mean(),\n",
    "    'age_range': f\"{df['age'].min()} - {df['age'].max()}\",\n",
    "    'gender_distribution': df['gender'].value_counts().to_dict(),\n",
    "    'average_expenses_by_category': df[expense_categories].mean().to_dict()\n",
    "}\n",
    "\n",
    "with open('summary_statistics.json', 'w') as f:\n",
    "    json.dump(summary_stats, f, indent=4)"
   ]
  }
 ],
 "metadata": {
  "language_info": {
   "name": "python"
  }
 },
 "nbformat": 4,
 "nbformat_minor": 2
}
